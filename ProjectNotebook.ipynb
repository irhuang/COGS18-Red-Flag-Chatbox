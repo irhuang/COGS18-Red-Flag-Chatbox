{
 "cells": [
  {
   "cell_type": "markdown",
   "metadata": {},
   "source": [
    "# Project Description"
   ]
  },
  {
   "cell_type": "markdown",
   "metadata": {},
   "source": [
    "My chatbox simulates a conversation with a dating interest, and there will be red flags throughout the dating interest's responses. There are different paths one can take in the conversation to offer variety. As the user talks to the red flag person, red flag messages add up, and once the user has encountered more than 3 red flags without leaving the conversation, they will get a message advising against continuing (ending) the chat. If the user does leave before then, they will get a compliment. In both cases, they get a link to a resource on identifying red flags. "
   ]
  },
  {
   "cell_type": "markdown",
   "metadata": {},
   "source": [
    "## Project Code\n",
    "\n",
    "If it makes sense for your project, you can have code and outputs here in the notebook as well."
   ]
  },
  {
   "cell_type": "code",
   "execution_count": 1,
   "metadata": {},
   "outputs": [],
   "source": [
    "from my_module.dating_chatbox import have_a_chat"
   ]
  },
  {
   "cell_type": "markdown",
   "metadata": {},
   "source": [
    "If I had more time, I would have tried to incorporate emojis, since most modern dating apps are online, so having emojis would be a more representative. I would also see if I can make the conversation more natural, with perhaps certain responses matched to certain inputs as opposed to randomizing everything. I would also add red flag paths to non-question inputs (right now the most red flag-y path is getting food, which is randomized to sometimes appear if you ask a question). "
   ]
  },
  {
   "cell_type": "code",
   "execution_count": null,
   "metadata": {
    "scrolled": false
   },
   "outputs": [],
   "source": [
    "# test it out\n",
    "!pytest my_module/test_dating_chatbox.py"
   ]
  },
  {
   "cell_type": "markdown",
   "metadata": {},
   "source": [
    "\n",
    "#### Extra Credit (*optional*)\n",
    "\n",
    "Replace all of this text with a brief explanation (~3 sentences) of: \n",
    "1. Your Python Background\n",
    "2. How your project went above and beyond the requirements of the project and/or how you challenged yourself to learn something new with the final project"
   ]
  }
 ],
 "metadata": {
  "kernelspec": {
   "display_name": "Python 3 (ipykernel)",
   "language": "python",
   "name": "python3"
  },
  "language_info": {
   "codemirror_mode": {
    "name": "ipython",
    "version": 3
   },
   "file_extension": ".py",
   "mimetype": "text/x-python",
   "name": "python",
   "nbconvert_exporter": "python",
   "pygments_lexer": "ipython3",
   "version": "3.9.5"
  }
 },
 "nbformat": 4,
 "nbformat_minor": 2
}
