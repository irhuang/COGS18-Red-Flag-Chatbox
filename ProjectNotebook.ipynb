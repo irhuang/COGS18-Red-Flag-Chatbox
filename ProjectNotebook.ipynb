{
 "cells": [
  {
   "cell_type": "markdown",
   "metadata": {},
   "source": [
    "# Project Description"
   ]
  },
  {
   "cell_type": "markdown",
   "metadata": {},
   "source": [
    "My chatbox simulates a conversation with a dating interest, and there will be red flags throughout the dating interest's responses. There are different paths one can take in the conversation to offer variety. As the user talks to the red flag person, red flag messages add up, and once the user has encountered more than 3 red flags without leaving the conversation, they will get a message advising against continuing (ending) the chat. If the user does leave before then, they will get a compliment. In both cases, they get a link to a resource on identifying red flags. "
   ]
  },
  {
   "cell_type": "markdown",
   "metadata": {},
   "source": [
    "## Project Code\n",
    "\n",
    "If it makes sense for your project, you can have code and outputs here in the notebook as well."
   ]
  },
  {
   "cell_type": "code",
   "execution_count": 1,
   "metadata": {},
   "outputs": [],
   "source": [
    "from my_module.dating_chatbox import have_a_chat"
   ]
  },
  {
   "cell_type": "code",
   "execution_count": 4,
   "metadata": {},
   "outputs": [
    {
     "name": "stdout",
     "output_type": "stream",
     "text": [
      "\u001b[1m============================= test session starts ==============================\u001b[0m\n",
      "platform linux -- Python 3.9.5, pytest-6.2.5, py-1.10.0, pluggy-1.0.0\n",
      "rootdir: /home/irhuang/Project_COGS18_FA21\n",
      "plugins: anyio-3.2.1\n",
      "collected 5 items                                                              \u001b[0m\u001b[1m\n",
      "\n",
      "my_module/test_dating_chatbox.py \u001b[32m.\u001b[0m\u001b[32m.\u001b[0m\u001b[32m.\u001b[0m\u001b[32m.\u001b[0m\u001b[32m.\u001b[0m\u001b[32m                                   [100%]\u001b[0m\n",
      "\n",
      "\u001b[32m============================== \u001b[32m\u001b[1m5 passed\u001b[0m\u001b[32m in 1.28s\u001b[0m\u001b[32m ===============================\u001b[0m\n"
     ]
    }
   ],
   "source": [
    "!pytest my_module/test_dating_chatbox.py"
   ]
  },
  {
   "cell_type": "markdown",
   "metadata": {},
   "source": [
    "If I had more time, I would have tried to see if I can allow the user to type emojis, since most modern dating apps are online, so having being able to type emojis would be a more representative. I would also see if I can make the conversation more natural, with perhaps certain responses matched to certain inputs as opposed to randomizing everything. I would also add red flag paths to non-question inputs (right now the most red flag-y path is getting food, which is randomized to sometimes appear if you ask a question). "
   ]
  },
  {
   "cell_type": "code",
   "execution_count": 2,
   "metadata": {},
   "outputs": [
    {
     "name": "stdout",
     "output_type": "stream",
     "text": [
      "What is your name? :\tAlo\n",
      "Welcome Alo. You can leave the conversation with with \"BYE\"\n",
      "Enter the name of any person you want to talk to :\tVera\n",
      "Alo :Hello\n",
      "Vera: Mhm\n",
      "Alo :?\n",
      "Vera: Do you want to go grocery shopping? If so, say \"GET FOOD\"\n",
      "Alo :Nah\n",
      "Vera: I just want you to be my rave babe 😩☝️\n",
      "Alo :Excuse me?\n",
      "Vera: We're not close enough for me to tell you my deep feelings\n",
      "Alo :I did not ask?\n",
      "Vera: Do you want to go grocery shopping? If so, say \"GET FOOD\"\n",
      "Alo :No?\n",
      "Vera: Do you want to go grocery shopping? If so, say \"GET FOOD\"\n",
      "Alo :No\n",
      "Vera: Whatever\n",
      "Alo :What is a hobby of yours?\n",
      "Vera: Would you like to rant? If so, say \"I'm angry\"\n",
      "Alo :I'm angry\n",
      "So you want to rant? Yes or No \tYes\n",
      "How many lines of rant do you have pent up? You'll have as many boxes as you enter here \t\n",
      "When you're done, type \"I'm done\"2\n",
      "Alo :I'm confused in life\n",
      "Alo :Just a tad lost\n",
      "Vera: Fine.\n",
      "Alo :Wow\n",
      "Vera: Wassup ma, wanna get some Korean bbq t'night? 🥺\n",
      "Alo :WOW\n",
      "Vera: Mhm\n",
      "Alo :No\n",
      "Vera: I just want you to be my rave babe 😩☝️\n",
      "Alo :BYE\n",
      "Vera: bye\n",
      "Good job, you left before the toxic human could get to you! I'd still recommend checking out this resource with tips on identifying red flags:  https://www.cosmopolitan.com/uk/love-sex/relationships/a33364278/red-flags-relationship/\n"
     ]
    }
   ],
   "source": [
    "have_a_chat()"
   ]
  },
  {
   "cell_type": "markdown",
   "metadata": {},
   "source": [
    "#### Extra Credit (*optional*)\n",
    "\n",
    "1. This course was my first time coding. It was not the easiest process but alas I did gain much...big brain knowledge, along with less contempt from my brother who learned to code before me\n",
    "2. I tried to make test asserts for functions where the user can input something, so I learned some monkeypatch. I couldn't grasp it at first, so I made enough tests to meet the minimum requirements, then looked into it more. Even though I saw the applicable example on StackOverflow early on, it took me a few days to understand that it could be applied to my code. In the process of looking for ways to test inputs, I gained more sense of what tests for it do, and ended up using the code on StackOverflow I saw in the first place"
   ]
  }
 ],
 "metadata": {
  "kernelspec": {
   "display_name": "Python 3 (ipykernel)",
   "language": "python",
   "name": "python3"
  },
  "language_info": {
   "codemirror_mode": {
    "name": "ipython",
    "version": 3
   },
   "file_extension": ".py",
   "mimetype": "text/x-python",
   "name": "python",
   "nbconvert_exporter": "python",
   "pygments_lexer": "ipython3",
   "version": "3.9.5"
  }
 },
 "nbformat": 4,
 "nbformat_minor": 2
}
